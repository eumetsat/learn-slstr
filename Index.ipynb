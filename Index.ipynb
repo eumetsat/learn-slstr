{
 "cells": [
  {
   "cell_type": "markdown",
   "metadata": {
    "Collapsed": "false",
    "editable": true,
    "slideshow": {
     "slide_type": ""
    },
    "tags": []
   },
   "source": [
    "<img src='https://gitlab.eumetsat.int/eumetlab/oceans/ocean-training/tools/frameworks/-/raw/main/img/Standard_banner.png' align='right' width='100%'/>"
   ]
  },
  {
   "cell_type": "markdown",
   "metadata": {},
   "source": [
    "<font color=\"#138D75\">**Copernicus Marine Training Service**</font> <br>\n",
    "**Copyright:** 2024 European Union <br>\n",
    "**License:** MIT <br>\n",
    "**Authors:** Ben Loveday (EUMETSAT/Innoflair UG), Hayley Evers-King (EUMETSAT), Gary Corlett (EUMETSAT)"
   ]
  },
  {
   "cell_type": "markdown",
   "metadata": {
    "editable": true,
    "slideshow": {
     "slide_type": ""
    },
    "tags": []
   },
   "source": [
    "<html>\n",
    "   <div style=\"float:left\"><p>&emsp;</p></div>\n",
    "   <div style=\"float:left\"><a href=\"https://gitlab.eumetsat.int/eumetlab/oceans/ocean-training/sensors/learn-slstr\"><img src=\"https://img.shields.io/badge/open-EUMETLAB-E67E22.svg\"></a></div>\n",
    "   <div style=\"float:left\"><p>&emsp;</p></div>\n",
    "   <div style=\"float:left\"><a href=\"https://user.eumetsat.int/data/themes/marine\"><img src=\"https://img.shields.io/badge/open-USER PORTAL-154360.svg\"></a></div>\n",
    "   <div style=\"float:left\"><p>&emsp;</p></div>\n",
    "   <div style=\"float:left\"><a href=\"https://mybinder.org/v2/git/https%3A%2F%2Fgitlab.eumetsat.int%2Feumetlab%2Foceans%2Focean-training%2Fsensors%2Flearn-slstr/HEAD?labpath=Index.ipynb\"><img src=\"https://mybinder.org/badge_logo.svg\"></a></div>\n",
    "   <div style=\"float:left\"><p>&emsp;</p></div>\n",
    "   <div style=\"float:left\"><a href=\"https://jupyterhub.prod.wekeo2.eu/hub/user-redirect/lab/tree/public/wekeo4oceans/learn-slstr/Index.ipynb\"><img src=\"https://img.shields.io/badge/launch-WEKEO-1a4696.svg\"></a></div>\n",
    "   <div style=\"float:left\"><p>&emsp;</p></div>\n",
    "   <div style=\"float:left\"><a href=\"https://code.insula.destine.eu/hub/\"><img src=\"https://img.shields.io/badge/launch-DestinE-f43fd3.svg\"></a></div></div>\n",
    "</html>"
   ]
  },
  {
   "cell_type": "markdown",
   "metadata": {},
   "source": [
    "<div class=\"alert alert-block alert-success\">\n",
    "<h3>Learn SLSTR</h3></div>\n",
    "<hr>"
   ]
  },
  {
   "cell_type": "markdown",
   "metadata": {
    "Collapsed": "false"
   },
   "source": [
    "# Index for the learn-SLSTR module\n",
    "\n",
    "### About SLSTR\n",
    "\n",
    "    \n",
    "The Sea and Land Surface Radiometer (SLSTR) measures electromagnetic signatures emitted by the Earth's surfaces, with a particular focus on those relating to temperature. Data from SLSTR can be used to measure sea  and sea-ice surface temperature, as well as to derive information on fires and atmospheric composition (e.g. aerosols). \n",
    "\n",
    "SLSTR continues the sea surface temperature record collected by the (A)ATSR instruments on ERS and Envisat satellites. The aim is to collect highly accurate measurements to provide a reference dataset for other sea surface temperature missions on other satellites.\n",
    "\n",
    "Sea surface temperature data is used as input for weather and ocean forecasting, to observe and monitor ocean current systems and ocean fronts, eddies, upwelling areas, marine ecosystems and the development of large scale El Niño/La Niña events. Because of the importance of sea surface temperature (SST) to the global heat budget it is monitored as an essential climate variable (ECV).\n",
    "\n",
    "These data are also used to improve understanding of the ocean surface layer, upper ocean variability, energy transfer, air-sea interactions and the impact of changes in the temperature of the ocean surface over the course of the day and changes between the temperature at the ocean surface and the depths below.\n",
    "\n",
    "SST data is also used to help manage marine ecosystems, e.g. identifying frontal areas with large shoals of fish or monitoring coral bleaching events, and for travel and tourism.\n",
    "\n",
    "Further information on the sensor and its data can be found in the <a href=\"https://user.eumetsat.int/data/satellites/sentinel-3\" target=\"_blank\">Sentinel-3 section of our User Portal</a>.\n",
    "<hr>\n",
    "\n",
    "### Module outline\n",
    "\n",
    "The **learn-slstr** module consists of a collection of Python-based Jupyter notebooks designed to demonstrate the capability of SLSTR, carried by the Sentinel-3 satellites, and to help users begin to work with its data at level-1B and level-2. The module will introduce you to:\n",
    "\n",
    "* the specifics of the SLSTR sensor\n",
    "* the ways in which you can access SLSTR data\n",
    "* the parameters that SLSTR provides at level-1b and level-2\n",
    "* approaches to working with SLSTR data in common use cases\n",
    "\n",
    "<hr>\n",
    "\n",
    "### How to use this material\n",
    "\n",
    "This module is based around a series of <a href=\"https://jupyter.org/\" target=\"_blank\">Jupyter Notebooks</a>. These support high-level interactive learning by allowing us to combine code, text descriptions and data visualisations. If you have not worked with Jupyter Notebooks before, please look at the\n",
    "\n",
    "<a href=\"./working-with-python/Intro_to_Python_and_Jupyter.ipynb\" target=\"_blank\">Introduction to Python and Project Jupyter</a> module to get a short introduction to their usage and benefits. Refer to this module's **README** for further information on how to set up Jupyter.\n",
    "\n",
    "This module is split in to two parts, designed for:\n",
    "* <font color=\"#229954\">**introductory users**</font>, who have basic knowledge of Python and are new to using SLSTR data\n",
    "* <font color=\"#DC7633\">**advanced users**</font>, who may be looking into more advanced use cases for the data.\n",
    "\n",
    "There is a suggested order in which to access the notebooks, and pre-requisites where applicable are listed at the top of each notebook. However, not all notebooks may be relevant for every user, so we have tried to make each one as self contained as possible.\n",
    "\n",
    "<hr>\n",
    "\n",
    "### Learning outcomes\n",
    "\n",
    "From this module, you can expect to learn:\n",
    "* How to access SLSTR data from both the EUMETSAT data services, and WEkEO\n",
    "* The general file structure of SLSTR products, and how to read them using Python\n",
    "* How SLSTR captures brightness temperature of the ocean, and how this is used to derive geophysical products\n",
    "* How to visualise SLSTR data products, applying appropriate flags and quality levels\n",
    "* The limitations and uncertainties associated with SLSTR products.\n",
    "\n",
    "<hr>"
   ]
  },
  {
   "cell_type": "markdown",
   "metadata": {},
   "source": [
    "<div class=\"alert alert-info\" role=\"alert\">\n",
    "\n",
    "## <a id='TOC_TOP'></a>Contents\n",
    "\n",
    "</div>\n",
    "\n",
    "This modules offers notebooks for introductory and advanced uses of SLSTR data.\n",
    "\n",
    "<h3>SLSTR <font color=\"#229954\"> introductory</font> notebooks.</h3>\n",
    "\n",
    "These resources will introduce you to the fundamentals of SLSTR<br>\n",
    " *  <a href=\"./1_SLSTR_introductory/1_1a_SLSTR_data_access_Data_Store.ipynb\" target=\"_blank\">1.1a Accessing SLSTR data from the EUMETSAT Data Store</a>\n",
    " *  <a href=\"./1_SLSTR_introductory/1_1b_SLSTR_data_access_HDA.ipynb\" target=\"_blank\">1.1b Accessing SLSTR data using the WEKEO HDA adaptor</a>\n",
    " *  <a href=\"./1_SLSTR_introductory/1_2_SLSTR_file_structure.ipynb\" target=\"_blank\">1.2 Understanding SLSTR product structure</a>\n",
    " *  <a href=\"./1_SLSTR_introductory/1_3_SLSTR_coverage.ipynb\" target=\"_blank\">1.3 Determining SLSTR product coverage</a>\n",
    " *  <a href=\"./1_SLSTR_introductory/1_4_SLSTR_bands_imagery.ipynb\" target=\"_blank\">1.4 SLSTR bands and imagery</a>\n",
    " *  <a href=\"./1_SLSTR_introductory/1_5_SLSTR_radiance_BT_spectra.ipynb\" target=\"_blank\">1.5 SLSTR radiance and brightness temperature spectra</a>\n",
    " *  <a href=\"./1_SLSTR_introductory/1_6_SLSTR_SST.ipynb\" target=\"_blank\">1.6 SLSTR sea surface temperature</a>\n",
    " * more coming soon...\n",
    "\n",
    "<h3>SLSTR <font color=\"#DC7633\"> advanced</font> notebooks</h3>\n",
    " \n",
    "These resources build on the fundamentals, covering more advanced uses of OLCI.<br>\n",
    " *  <a href=\"./2_SLSTR_advanced/2_1_SLSTR_advanced_data_access_eumdac.ipynb\" target=\"_blank\">2.1 Advanced SLSTR data access with the EUMDAC client</a>\n",
    " * <a href=\"./2_SLSTR_advanced/2_2_SLSTR_channel_comparison_cloud_flagging.ipynb\" target=\"_blank\">2.2 SLSTR channel comparison and cloud flagging</a>\n",
    " * more coming soon..."
   ]
  },
  {
   "cell_type": "markdown",
   "metadata": {},
   "source": [
    "<hr>\n",
    "<a href=\"https://gitlab.eumetsat.int/eumetlab/ocean\" target=\"_blank\">View on GitLab</a> | <a href=\"https://training.eumetsat.int/\" target=\"_blank\">EUMETSAT Training</a> | <a href=mailto:ops@eumetsat.int target=\"_blank\">Contact helpdesk for support </a> | <a href=mailto:training@eumetsat.int target=\"_blank\">Contact our training team to collaborate on and reuse this material</a></span></p>"
   ]
  }
 ],
 "metadata": {
  "author": "Ben Loveday, Hayley Evers-King, Gary Corlett",
  "content_type": "Software & code",
  "data_access": [
   "Data Store",
   "WEkEO"
  ],
  "deployment": {
   "eumetsat": {
    "binder": {
     "link": "https://mybinder.org/v2/git/https%3A%2F%2Fgitlab.eumetsat.int%2Feumetlab%2Foceans%2Focean-training%2Fsensors%2Flearn-slstr/HEAD?labpath=Index.ipynb",
     "service_contact": "ops@eumetsat.int",
     "service_provider": "EUMETSAT"
    },
    "git": {
     "link": "https://gitlab.eumetsat.int/eumetlab/oceans/ocean-training/sensors/learn-slstr/-/blob/main/Index.ipynb",
     "service_contact": "ops@eumetsat.int",
     "service_provider": "EUMETSAT"
    }
   },
   "wekeo": {
    "git": {
     "link": "https://github.com/wekeo/learn-slstr/blob/main/Index.ipynb",
     "service_contact": "ops@eumetsat.int",
     "service_provider": "EUMETSAT"
    },
    "url": {
     "link": "https://jupyterhub.prod.wekeo2.eu/hub/user-redirect/lab/tree/public/wekeo4oceans/learn-slstr/Index.ipynb",
     "service_contact": "ops@eumetsat.int",
     "service_provider": "EUMETSAT"
    }
   }
  },
  "description": "This repository provides guidance on working with Sentinel-3 SLSTR for SST and IST",
  "image": "./img/thumbs/Index_thumb.png",
  "kernelspec": {
   "display_name": "Python 3 (ipykernel)",
   "language": "python",
   "name": "python3"
  },
  "language_info": {
   "codemirror_mode": {
    "name": "ipython",
    "version": 3
   },
   "file_extension": ".py",
   "mimetype": "text/x-python",
   "name": "python",
   "nbconvert_exporter": "python",
   "pygments_lexer": "ipython3",
   "version": "3.10.16"
  },
  "license": "MIT",
  "metadata_schema_version": "2.0.0",
  "originator": "EUMETSAT",
  "tags": {
   "data_provider": "EUMETSAT",
   "orbit": "",
   "satellite": "Sentinel-3",
   "sensor": "SLSTR (Sentinel-3)",
   "service": "EUMETSAT",
   "subtheme": [
    "Ocean dynamics"
   ],
   "theme": "Marine",
   "variable": [
    "Top-of-atmosphere radiance",
    "Top-of-atmosphere brightness temperature",
    "Sea ice surface temperature",
    "Sea surface temperature"
   ]
  },
  "title": "Welcome to the EUMETSAT learn-slstr GitLab repository",
  "version": "2.0.0",
  "version_date": "2024-07-01"
 },
 "nbformat": 4,
 "nbformat_minor": 4
}
